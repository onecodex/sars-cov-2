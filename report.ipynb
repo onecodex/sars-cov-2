{
 "cells": [
  {
   "cell_type": "code",
   "execution_count": null,
   "metadata": {},
   "outputs": [],
   "source": [
    "import json\n",
    "import os\n",
    "import pandas as pd\n",
    "import altair as alt\n",
    "from Bio import SeqIO\n",
    "\n",
    "from IPython.display import HTML\n",
    "\n",
    "from onecodex import Api\n",
    "from onecodex.notebooks.report import set_style, title"
   ]
  },
  {
   "cell_type": "code",
   "execution_count": null,
   "metadata": {},
   "outputs": [],
   "source": [
    "ocx = Api()"
   ]
  },
  {
   "cell_type": "code",
   "execution_count": null,
   "metadata": {},
   "outputs": [],
   "source": [
    "ENVIRONMENT = os.environ.get(\"ONE_CODEX_REPORT_ENV\", \"draft\")\n",
    "\n",
    "if ENVIRONMENT == \"production\":\n",
    "    sample_uuid = os.environ[\"ONE_CODEX_SAMPLE_UUID\"]\n",
    "    sample = ocx.Samples.get(sample_uuid)\n",
    "    assert sample is not None, \"Sample does not exist\"\n",
    "    sample_filename = sample.filename\n",
    "    if not os.path.exists(sample_filename):\n",
    "        sample.download()\n",
    "else:\n",
    "    sample_filename = os.environ[\"TEST_INPUT_FASTQ\"]"
   ]
  },
  {
   "cell_type": "code",
   "execution_count": null,
   "metadata": {},
   "outputs": [],
   "source": [
    "# note our DB actually has v1 of this assembly as of Feb 2020\n",
    "VARIANTS_TSV_PATH = \"variants.tsv\"\n",
    "BAM_PATH = \"covid19.bam\"\n",
    "REFERENCE_PATH = os.environ.get(\n",
    "    \"FASTA_REFERENCE\", \"reference/nCoV-2019.reference.fasta\"\n",
    ")\n",
    "BED_FILE_PATH = os.environ.get(\"BED_FILE_PATH\", \"reference/artic-v1/ARTIC-V1.bed\")"
   ]
  },
  {
   "cell_type": "code",
   "execution_count": null,
   "metadata": {},
   "outputs": [],
   "source": [
    "!bash covid19_call_variants.sh {REFERENCE_PATH} {sample_filename} {BED_FILE_PATH} command > variants.log 2>&1"
   ]
  },
  {
   "cell_type": "code",
   "execution_count": null,
   "metadata": {},
   "outputs": [],
   "source": [
    "# load reference genome\n",
    "reference = list(SeqIO.parse(REFERENCE_PATH, \"fasta\"))"
   ]
  },
  {
   "cell_type": "code",
   "execution_count": null,
   "metadata": {},
   "outputs": [],
   "source": [
    "# calculate mapping depth\n",
    "!samtools depth $BAM_PATH > snps.depth"
   ]
  },
  {
   "cell_type": "code",
   "execution_count": null,
   "metadata": {},
   "outputs": [],
   "source": [
    "n_reads = sample.primary_classification.results()[\"n_reads\"]"
   ]
  },
  {
   "cell_type": "code",
   "execution_count": null,
   "metadata": {},
   "outputs": [],
   "source": [
    "# see https://www.biostars.org/p/138116/\n",
    "n_aligned_reads = !samtools view -F 0x4 $BAM_PATH | cut -f 1 | sort | uniq | wc -l\n",
    "n_aligned_reads = int(n_aligned_reads[0])"
   ]
  },
  {
   "cell_type": "code",
   "execution_count": null,
   "metadata": {},
   "outputs": [],
   "source": [
    "depth_table = []\n",
    "\n",
    "with open(\"snps.depth\") as handle:\n",
    "    for line in handle:\n",
    "        row = line.strip().split(\"\\t\")\n",
    "        depth_table.append(\n",
    "            {\"reference\": row[0], \"position\": int(row[1]), \"depth\": int(row[2])}\n",
    "        )\n",
    "depth_table = pd.DataFrame(depth_table)"
   ]
  },
  {
   "cell_type": "code",
   "execution_count": null,
   "metadata": {},
   "outputs": [],
   "source": [
    "# calculate genome coverage\n",
    "# (what percent of bases are coveraged at X coverage)\n",
    "min_depth = 1\n",
    "reference_length = len(reference[0])\n",
    "\n",
    "covered_sites = set()\n",
    "\n",
    "for _, row in depth_table.iterrows():\n",
    "    row = row.to_dict()\n",
    "    if row[\"depth\"] >= min_depth:\n",
    "        covered_sites.add(row[\"position\"])\n",
    "\n",
    "cov = len(covered_sites) / reference_length"
   ]
  },
  {
   "cell_type": "code",
   "execution_count": null,
   "metadata": {},
   "outputs": [],
   "source": [
    "# get mean over windows because altair can't handle > 5k points ...\n",
    "binned_depths = []\n",
    "window_width = reference_length // 4500\n",
    "\n",
    "for i in range(1, reference_length, window_width):\n",
    "    window = depth_table.loc[\n",
    "        (depth_table[\"position\"] > i) & (depth_table[\"position\"] < i + window_width)\n",
    "    ]\n",
    "\n",
    "    binned_depths.append(\n",
    "        {\"position\": i, \"depth\": window[\"depth\"].mean(),}\n",
    "    )\n",
    "\n",
    "binned_depths = pd.DataFrame(binned_depths)"
   ]
  },
  {
   "cell_type": "code",
   "execution_count": null,
   "metadata": {},
   "outputs": [],
   "source": [
    "depth = depth_table[\"depth\"].mean()"
   ]
  },
  {
   "cell_type": "code",
   "execution_count": null,
   "metadata": {},
   "outputs": [],
   "source": [
    "# Read fom variants.tsv\n",
    "snp_table = pd.read_csv(VARIANTS_TSV_PATH, sep=\"\\t\")"
   ]
  },
  {
   "cell_type": "code",
   "execution_count": null,
   "metadata": {},
   "outputs": [],
   "source": [
    "n_snps = snp_table.shape[0]"
   ]
  },
  {
   "cell_type": "code",
   "execution_count": null,
   "metadata": {},
   "outputs": [],
   "source": [
    "title(\"SARS-CoV-2 (COVID-19) Sequencing Overview\")"
   ]
  },
  {
   "cell_type": "code",
   "execution_count": null,
   "metadata": {},
   "outputs": [],
   "source": [
    "text = f\"\"\"\n",
    "This report summarizes the detection of SARS-CoV-2, the causative agent of COVID-19, in sample \n",
    "<strong>{sample_filename}</strong>. \n",
    "This sample contained <strong>{n_reads:,}</strong> reads, with\n",
    "<strong>{n_aligned_reads:,}</strong> mapping to the \n",
    "<a href='https://www.ncbi.nlm.nih.gov/nuccore/NC_045512' target='_blank'>reference</a>. \n",
    "Reads cover <strong>{cov:.1%}</strong> of the SARS-CoV-2 genome, with a mean depth of <strong>{depth:.1f}x</strong>.\n",
    "A total of <strong>{n_snps}</strong> variant{'s were' if n_snps != 1 else 'was'} detected.\"\"\"\n",
    "\n",
    "HTML(text)"
   ]
  },
  {
   "cell_type": "code",
   "execution_count": null,
   "metadata": {},
   "outputs": [],
   "source": [
    "# An updated theme not yet in onecodex v0.7.2\n",
    "def onecodex_theme_alt():\n",
    "    onecodex_palette = [\n",
    "        \"#ffffcc\",\n",
    "        \"#c7e9b4\",\n",
    "        \"#7fcdbb\",\n",
    "        \"#41b6c4\",\n",
    "        \"#2c7fb8\",\n",
    "        \"#264153\",\n",
    "    ]\n",
    "\n",
    "    return {\n",
    "        \"config\": {\n",
    "            \"range\": {\"heatmap\": list(reversed(onecodex_palette))},\n",
    "            \"axis\": {\n",
    "                \"labelFont\": \"Palatino\",\n",
    "                \"labelFontSize\": 12,\n",
    "                \"titleFont\": \"Palatino\",\n",
    "                \"titleFontSize\": 12,\n",
    "                \"grid\": False,\n",
    "            },\n",
    "            \"area\": {\"fill\": \"#128887\",},\n",
    "            \"legend\": {\n",
    "                \"labelFont\": \"Palatino\",\n",
    "                \"labelFontSize\": 12,\n",
    "                \"titleFont\": \"Palatino\",\n",
    "                \"titleFontSize\": 12,\n",
    "            },\n",
    "            \"title\": {\"font\": \"Palatino\"},\n",
    "            \"view\": {\"width\": 400, \"height\": 400, \"strokeWidth\": 0},\n",
    "            \"background\": \"transparent\",\n",
    "        }\n",
    "    }\n",
    "\n",
    "\n",
    "alt.themes.register(\"onecodex2\", onecodex_theme_alt)\n",
    "alt.themes.enable(\"onecodex2\")\n",
    "None"
   ]
  },
  {
   "cell_type": "code",
   "execution_count": null,
   "metadata": {},
   "outputs": [],
   "source": [
    "# Coverage plot\n",
    "plot = (\n",
    "    alt.Chart(binned_depths)\n",
    "    .mark_area()\n",
    "    .transform_window(rolling_mean=\"mean(depth)\", frame=[-50, 50])\n",
    "    .encode(\n",
    "        x=alt.X(\n",
    "            \"position\",\n",
    "            title=\"Genomic Coordinate\",\n",
    "            scale=alt.Scale(domain=[0, reference_length]),\n",
    "        ),\n",
    "        y=alt.Y(\"rolling_mean:Q\", scale=alt.Scale(type=\"linear\"), title=\"Depth\"),\n",
    "    )\n",
    "    .properties(\n",
    "        title=f\"SARS-CoV-2 ({os.path.basename(REFERENCE_PATH).rstrip('.gbk')})\",\n",
    "        width=550,\n",
    "        height=150,\n",
    "    )\n",
    ")\n",
    "plot"
   ]
  },
  {
   "cell_type": "code",
   "execution_count": null,
   "metadata": {},
   "outputs": [],
   "source": [
    "if snp_table.empty:\n",
    "    table = pd.DataFrame(columns=[\"POS\", \"Variant\", \"Gene\"])\n",
    "    table = HTML(\n",
    "        \"<div style='text-align: center; color: #555; width: 100%;'><em>No SNPs found.</em><br /><br /></div>\"\n",
    "    )\n",
    "else:\n",
    "    snp_table[\"Position\"] = snp_table[\"POS\"]\n",
    "    snp_table[\"Variant\"] = [f\"{r['REF']} → {r['ALT']}\" for _, r in snp_table.iterrows()]\n",
    "    snp_table[\"Depth\"] = snp_table[\"ALT_DP\"].apply(lambda x: f\"{x}×\")\n",
    "\n",
    "    # snp_table[\"Gene\"] = \"TODO\"\n",
    "    table = snp_table.loc[\n",
    "        snp_table[\"ALT_DP\"] >= 10, [\"Position\", \"Variant\", \"Depth\"]\n",
    "    ]  # , \"Gene\"]]\n",
    "    table = HTML(table.to_html(index=False))\n",
    "table"
   ]
  },
  {
   "cell_type": "code",
   "execution_count": null,
   "metadata": {},
   "outputs": [],
   "source": [
    "legend_text = \"SARS-CoV-2 variants.\"\n",
    "n_extra_variants = (\n",
    "    snp_table[snp_table[\"ALT_DP\"] < 10].shape[0] if not snp_table.empty else 0\n",
    ")\n",
    "if n_extra_variants:\n",
    "    legend_text += f\" An additional {n_extra_variants} variant{'s' if n_extra_variants > 1 else ''} <10× depth {'are' if n_extra_variants > 1 else 'is'} not shown.\"\n",
    "if os.environ.get(\"ONE_CODEX_REPORT_UUID\"):\n",
    "    legend_text += f\"\"\" \n",
    "         A variants TSV and consensus FASTA is available <a target=\"_blank\" href=\\\"{'https://app.onecodex.com/report/' + os.environ['ONE_CODEX_REPORT_UUID'] + '/files'}\\\">here</a>.\n",
    "        \"\"\"\n",
    "HTML(\n",
    "    '<div style=\"text-align: center; padding-top: 10px; font-size: 0.7em; color: #777;\"><em>'\n",
    "    + legend_text\n",
    "    + \"</em></div>\"\n",
    ")"
   ]
  },
  {
   "cell_type": "markdown",
   "metadata": {},
   "source": [
    "### Additional Resources\n",
    "\n",
    "- Additional bioinformatics pipeline details are [available on GitHub](https://github.com/onecodex/sars-cov-2)\n",
    "- [Nextstrain](https://nextstrain.org/ncov) maintains an up-to-date analysis of SARS-CoV-2 (HCoV-19).\n",
    "- The [Global Initiative on Sharing All Influenza Data (GISAID)](https://www.gisaid.org/) hosts viral genomes from ongoing outbreaks. Please [contact us](mailto:hello@onecodex.com) for help submitting your data."
   ]
  },
  {
   "cell_type": "code",
   "execution_count": null,
   "metadata": {},
   "outputs": [],
   "source": [
    "# Add One Codex report ID to footer for reproducibility/data provenance (not yet in v0.7.2)\n",
    "HTML(\n",
    "    f\"\"\"\n",
    "<style type='text/css'>\n",
    "@page {{\n",
    "    @bottom-center {{\n",
    "        content: \"{os.environ['ONE_CODEX_REPORT_UUID'] + ' -' if os.environ.get('ONE_CODEX_REPORT_UUID') else ''} NOT FOR DIAGNOSTIC USE\" !important;\n",
    "    }}\n",
    "}}\n",
    "</style>\n",
    "\"\"\"\n",
    ")"
   ]
  },
  {
   "cell_type": "code",
   "execution_count": null,
   "metadata": {},
   "outputs": [],
   "source": [
    "# Save a JSON too, including filtered variants <10x\n",
    "results = [r.to_dict() for _, r in snp_table.iterrows()]\n",
    "\n",
    "with open(\"results.json\", \"w\") as f:\n",
    "    json.dump(results, f)"
   ]
  },
  {
   "cell_type": "code",
   "execution_count": null,
   "metadata": {},
   "outputs": [],
   "source": [
    "# Clean up files\n",
    "!rm -f {sample.filename} snps.depth variants.log covid19.bam"
   ]
  },
  {
   "cell_type": "code",
   "execution_count": null,
   "metadata": {},
   "outputs": [],
   "source": []
  }
 ],
 "metadata": {
  "kernelspec": {
   "display_name": "Python 3",
   "language": "python",
   "name": "python3"
  },
  "language_info": {
   "codemirror_mode": {
    "name": "ipython",
    "version": 3
   },
   "file_extension": ".py",
   "mimetype": "text/x-python",
   "name": "python",
   "nbconvert_exporter": "python",
   "pygments_lexer": "ipython3",
   "version": "3.7.6"
  }
 },
 "nbformat": 4,
 "nbformat_minor": 2
}
